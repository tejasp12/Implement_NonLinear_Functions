{
 "cells": [
  {
   "cell_type": "markdown",
   "metadata": {},
   "source": [
    "***\n",
    "$\\mathbf{\\text{Implementations of Non-Linear Function:}}$<br>\n",
    "***\n",
    "### Sigmoid function:\n",
    "\n",
    "$$ Z = \\frac{1}{1 + e^{-x}} $$"
   ]
  },
  {
   "cell_type": "code",
   "execution_count": 1,
   "metadata": {},
   "outputs": [],
   "source": [
    "#Import required libraries:\n",
    "import numpy as np\n",
    "import matplotlib.pyplot as plt\n",
    "%matplotlib inline"
   ]
  },
  {
   "cell_type": "code",
   "execution_count": 3,
   "metadata": {},
   "outputs": [],
   "source": [
    "#Implementation of Sigmoid function:\n",
    "def Sigmoid(x):\n",
    "    return 1/(1+np.exp(-x))"
   ]
  },
  {
   "cell_type": "code",
   "execution_count": 4,
   "metadata": {},
   "outputs": [
    {
     "data": {
      "text/plain": [
       "0.5"
      ]
     },
     "execution_count": 4,
     "metadata": {},
     "output_type": "execute_result"
    }
   ],
   "source": [
    "#Check the function:\n",
    "Sigmoid(0)"
   ]
  },
  {
   "cell_type": "code",
   "execution_count": 5,
   "metadata": {},
   "outputs": [
    {
     "data": {
      "text/plain": [
       "array([-15.        , -14.93987976, -14.87975952, -14.81963928,\n",
       "       -14.75951904])"
      ]
     },
     "execution_count": 5,
     "metadata": {},
     "output_type": "execute_result"
    }
   ],
   "source": [
    "xvals = np.linspace(-15,15,500)\n",
    "xvals[:5]"
   ]
  },
  {
   "cell_type": "code",
   "execution_count": 5,
   "metadata": {},
   "outputs": [
    {
     "data": {
      "image/png": "[encoded data removed]",
      "text/plain": [
       "<Figure size 432x288 with 1 Axes>"
      ]
     },
     "metadata": {
      "needs_background": "light"
     },
     "output_type": "display_data"
    }
   ],
   "source": [
    "#Displaying Sigmoid curve:\n",
    "plt.plot(xvals,Sigmoid(xvals),color='green',marker='o')\n",
    "plt.xlabel('X-axis')\n",
    "plt.ylabel('Y-axis')\n",
    "plt.show()"
   ]
  },
  {
   "cell_type": "markdown",
   "metadata": {},
   "source": [
    "### Taking Derivative of the function:"
   ]
  },
  {
   "cell_type": "markdown",
   "metadata": {},
   "source": [
    "- Forward Difference Scheme:"
   ]
  },
  {
   "cell_type": "code",
   "execution_count": 9,
   "metadata": {},
   "outputs": [],
   "source": [
    "def forward_derivative(func,x_val,epoch=0.00001):\n",
    "    print(\"Function used:{}\".format(func))\n",
    "    delta_y = func((x_val + epoch)) - func(x_val) \n",
    "    delta_x = 2 * epoch\n",
    "    forward_derivative = delta_y / delta_x\n",
    "    return forward_derivative"
   ]
  },
  {
   "cell_type": "markdown",
   "metadata": {},
   "source": [
    "- Backward difference scheme:"
   ]
  },
  {
   "cell_type": "code",
   "execution_count": 10,
   "metadata": {},
   "outputs": [],
   "source": [
    "def backward_derivative(func,x_val,epoch=0.00001):\n",
    "    print(\"Funcion used:{}\".format(func))\n",
    "    delta_y = func(x_val) - func(x_val - epoch)\n",
    "    delta_x = epoch\n",
    "    backward_derivative = delta_y / delta_x\n",
    "    return backward_derivative"
   ]
  },
  {
   "cell_type": "markdown",
   "metadata": {},
   "source": [
    "- Central Difference Scheme:"
   ]
  },
  {
   "cell_type": "code",
   "execution_count": 11,
   "metadata": {},
   "outputs": [],
   "source": [
    "def central_derivative(func,x_val,epoch=0.00001):\n",
    "    print(\"Funcion used:{}\".format(func))\n",
    "    delta_y = func(x_val + epoch) - func(x_val - epoch)\n",
    "    delta_x = 2 * epoch\n",
    "    central_derivative = delta_y / delta_x\n",
    "    return central_derivative"
   ]
  },
  {
   "cell_type": "markdown",
   "metadata": {},
   "source": [
    "- Plot the function and its Derivative graph:"
   ]
  },
  {
   "cell_type": "code",
   "execution_count": 13,
   "metadata": {},
   "outputs": [
    {
     "name": "stdout",
     "output_type": "stream",
     "text": [
      "Funcion used:<function Sigmoid at 0x00000260954FC620>\n"
     ]
    },
    {
     "data": {
      "image/png": "[encoded data removed]",
      "text/plain": [
       "<Figure size 432x288 with 1 Axes>"
      ]
     },
     "metadata": {
      "needs_background": "light"
     },
     "output_type": "display_data"
    }
   ],
   "source": [
    "#1:Function Graph:\n",
    "plt.plot(xvals,Sigmoid(xvals),color='green',marker='*')\n",
    "#2:Its Derivative Graph:\n",
    "plt.plot(xvals,central_derivative(Sigmoid,xvals),color='red',marker='o')\n",
    "#Show:\n",
    "plt.show()"
   ]
  },
  {
   "cell_type": "markdown",
   "metadata": {},
   "source": [
    "- Gradient of Sigmoid is non-zero only for inputs around 0."
   ]
  },
  {
   "cell_type": "markdown",
   "metadata": {},
   "source": [
    "-  Gradient dies down to 0 for large positive and large negative inputs. This is called **'Vanishing Gradient'**."
   ]
  },
  {
   "cell_type": "markdown",
   "metadata": {},
   "source": [
    "### Tanh:"
   ]
  },
  {
   "cell_type": "markdown",
   "metadata": {},
   "source": [
    "if x > 0:\n",
    "\n",
    "    print(x)\n",
    "    \n",
    "else:\n",
    "\n",
    "    print(0)"
   ]
  },
  {
   "cell_type": "code",
   "execution_count": 15,
   "metadata": {},
   "outputs": [
    {
     "name": "stdout",
     "output_type": "stream",
     "text": [
      "Funcion used:<ufunc 'tanh'>\n"
     ]
    },
    {
     "data": {
      "image/png": "[encoded data removed]",
      "text/plain": [
       "<Figure size 432x288 with 1 Axes>"
      ]
     },
     "metadata": {
      "needs_background": "light"
     },
     "output_type": "display_data"
    }
   ],
   "source": [
    "#1:Tanh Graph:\n",
    "plt.plot(xvals, np.tanh(xvals), color = 'blue', marker='*')\n",
    "#2:Tanh derivative:\n",
    "plt.plot(xvals, central_derivative(np.tanh,xvals), color = 'red', marker='o')\n",
    "#Show:\n",
    "plt.show()"
   ]
  },
  {
   "cell_type": "markdown",
   "metadata": {},
   "source": [
    "- Tanh output varies between -1 to +1. Saturating to +1 for large pos inputs and satustrating to -1 for large neg inputs"
   ]
  },
  {
   "cell_type": "markdown",
   "metadata": {},
   "source": [
    "- Derivative of tanh is present in small range of inputs aroud 0,otherwise it dies down to 0."
   ]
  },
  {
   "cell_type": "markdown",
   "metadata": {},
   "source": [
    "### ReLu:"
   ]
  },
  {
   "cell_type": "code",
   "execution_count": 16,
   "metadata": {},
   "outputs": [],
   "source": [
    "def relu(x):\n",
    "    return np.maximum(0,x)"
   ]
  },
  {
   "cell_type": "code",
   "execution_count": 18,
   "metadata": {},
   "outputs": [
    {
     "name": "stdout",
     "output_type": "stream",
     "text": [
      "Funcion used:<function relu at 0x00000260976CB7B8>\n"
     ]
    },
    {
     "data": {
      "image/png": "[encoded data removed]",
      "text/plain": [
       "<Figure size 432x288 with 1 Axes>"
      ]
     },
     "metadata": {
      "needs_background": "light"
     },
     "output_type": "display_data"
    }
   ],
   "source": [
    "#1:Relu Graph:\n",
    "plt.plot(xvals, relu(xvals), color = 'blue', marker='*')\n",
    "#2:Relu Gradient:\n",
    "plt.plot(xvals, central_derivative(relu,xvals), color = 'red', marker='o')\n",
    "#3:Show:\n",
    "plt.show()"
   ]
  },
  {
   "cell_type": "markdown",
   "metadata": {},
   "source": [
    "- ReLu has linear output on positive side and no output on negative side."
   ]
  },
  {
   "cell_type": "markdown",
   "metadata": {},
   "source": [
    "- ReLu derivative is non-zero for all positive inputs and **non-vanishing** and 0 for all negative inputs."
   ]
  }
 ],
 "metadata": {
  "kernelspec": {
   "display_name": "Python 3",
   "language": "python",
   "name": "python3"
  },
  "language_info": {
   "codemirror_mode": {
    "name": "ipython",
    "version": 3
   },
   "file_extension": ".py",
   "mimetype": "text/x-python",
   "name": "python",
   "nbconvert_exporter": "python",
   "pygments_lexer": "ipython3",
   "version": "3.7.7"
  }
 },
 "nbformat": 4,
 "nbformat_minor": 2
}
